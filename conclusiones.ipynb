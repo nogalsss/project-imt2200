{
 "cells": [
  {
   "cell_type": "markdown",
   "id": "352e19ad",
   "metadata": {},
   "source": [
    "\n",
    "## 🧩 Conclusiones — AVANCE INICIAL (IGDB + Steam)\n",
    "\n",
    "### 1. Análisis general IGDB (≈ 38 000 juegos)\n",
    "\n",
    "**Volumen y rango temporal**  \n",
    "- La base abarca **1980–2025**, concentrándose en **2010–2024**, cuando se masificó la distribución digital.  \n",
    "- El peak de lanzamientos ocurre entre **2018 y 2022**, coherente con el auge de estudios independientes y la expansión de plataformas como Steam e itch.io.\n",
    "\n",
    "**Plataformas**  \n",
    "- **PC/Windows** lidera por amplio margen, seguido de **PlayStation 4/5**, **Nintendo Switch** y **Xbox One/Series**.  \n",
    "- Cerca del 45 % de los juegos son **multiplataforma**, lo que confirma a **PC como eje central y accesible** para desarrolladores pequeños.\n",
    "\n",
    "**Géneros**  \n",
    "- Los géneros con mayor presencia son **Action**, **Adventure**, **RPG**, **Strategy** y **Simulation**.  \n",
    "- En valoración promedio destacan **Indie**, **Puzzle**, **Card & Board**, **Visual Novel** y **Tactical RPG**, todos asociados a producciones de bajo costo y buena recepción crítica.\n",
    "\n",
    "**Calidad percibida**  \n",
    "- Promedio de `rating` ≈ 78 puntos, con alta dispersión (σ ≈ 14).  \n",
    "- Fuerte correlación `rating ↔ total_rating` (r ≈ 0.82) y débil `rating ↔ total_rating_count` (r ≈ 0.18): los juegos más valorados no siempre son los más masivos en reseñas.\n",
    "\n",
    "**Tendencias temporales**  \n",
    "- Predominio de lanzamientos en **noviembre–diciembre** (Q4).  \n",
    "- Los meses **marzo–junio (Q1–Q2)** muestran menor saturación y pueden ser **ventanas óptimas** para indies con bajo presupuesto publicitario.\n",
    "\n",
    "**Conclusión parcial IGDB**  \n",
    "> El dataset muestra una industria donde la visibilidad se concentra en PC, y los géneros de menor escala —indie, puzzle, táctico, visual novel— logran altos ratings relativos.  \n",
    "> El **timing** y la **especialización de género** aparecen como factores tan decisivos como el presupuesto.\n",
    "\n",
    "---\n",
    "\n",
    "### 2. Ecosistema Steam (2025)\n",
    "\n",
    "Datos recientes de SteamCharts/Steam DB indican:  \n",
    "- ~**24 millones de usuarios concurrentes** y **picos históricos de ~37 M**.   \n",
    "- Top 3 estable: **Counter-Strike 2**, **Dota 2**, **PUBG**, seguidos por shooters y survivals AAA.   \n",
    "- Estrenos como **Battlefield 6** superan **700 k jugadores simultáneos**, desplazando temporalmente la visibilidad de títulos pequeños.   \n",
    "\n",
    "**Interpretación para indies**  \n",
    "- El 1 % superior concentra más del 90 % del tráfico.  \n",
    "- Los estudios independientes deben centrarse en **nichos de alto rating y comunidad fiel**, más que en volumen de CCU.  \n",
    "- Los géneros **single-player narrativos o tácticos** sostienen ventas prolongadas (“long tail”) incluso sin picos masivos.\n",
    "\n",
    "---\n",
    "\n",
    "### 3. Conclusión general integradora\n",
    "\n",
    "> Con una base de **~38 000 juegos IGDB (1980–2025)** y observaciones actuales del ecosistema Steam, se confirma una **polarización del mercado**: los títulos de mayor concurrencia pertenecen a franquicias AAA competitivas, mientras que los indies logran reconocimiento crítico en géneros single-player de bajo costo y alta valoración.  \n",
    "> **PC** sigue siendo la plataforma central por accesibilidad, y **Switch** su complemento natural.  \n",
    "> La **calidad (rating)** y la **popularidad (reseñas)** están solo parcialmente correlacionadas: los juegos mejor evaluados no siempre son los más masivos.  \n",
    "> Además, la **estacionalidad** de lanzamientos sugiere que **evitar Q4** y preferir **Q1–Q2** puede mejorar la visibilidad.  \n",
    "> En síntesis, el éxito indie se construye más en **consistencia, crítica positiva y timing estratégico** que en concurrencia masiva.  \n",
    "> Este análisis exploratorio establece la base para el siguiente avance (3.3), donde se modelarán cuantitativamente los factores que predicen el éxito sostenible de un videojuego independiente.\n"
   ]
  },
  {
   "cell_type": "markdown",
   "id": "84cac955",
   "metadata": {},
   "source": []
  }
 ],
 "metadata": {
  "language_info": {
   "name": "python"
  }
 },
 "nbformat": 4,
 "nbformat_minor": 5
}
